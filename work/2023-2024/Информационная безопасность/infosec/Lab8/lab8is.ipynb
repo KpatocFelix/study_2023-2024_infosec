{
  "nbformat": 4,
  "nbformat_minor": 0,
  "metadata": {
    "colab": {
      "provenance": []
    },
    "kernelspec": {
      "name": "python3",
      "display_name": "Python 3"
    },
    "language_info": {
      "name": "python"
    }
  },
  "cells": [
    {
      "cell_type": "code",
      "execution_count": null,
      "metadata": {
        "id": "oWSeJTU6n46O"
      },
      "outputs": [],
      "source": [
        "import random\n",
        "import string"
      ]
    },
    {
      "cell_type": "code",
      "source": [
        "def hextext(text):\n",
        "  t=\"\".join(hex(ord(i))[2:]for i in text)\n",
        "  return t"
      ],
      "metadata": {
        "id": "N5NTTqDsoGXU"
      },
      "execution_count": null,
      "outputs": []
    },
    {
      "cell_type": "code",
      "source": [
        "def gen_klyo(size):\n",
        "  g=''.join(random.choice(string.ascii_letters + string.digits)for _ in range(size))\n",
        "  return g"
      ],
      "metadata": {
        "id": "cAG0W_fTposG"
      },
      "execution_count": null,
      "outputs": []
    },
    {
      "cell_type": "code",
      "source": [
        "def encrypted(ms1,ms2):\n",
        "  ms1=[ord(i) for i in ms1]\n",
        "  ms2=[ord(i) for i in ms2]\n",
        "  create=''.join(chr(a^b)for a,b in zip(ms1,ms2))\n",
        "  return create"
      ],
      "metadata": {
        "id": "Iiw6Rl9lq0HU"
      },
      "execution_count": null,
      "outputs": []
    },
    {
      "cell_type": "code",
      "source": [
        "P1= \" НаВашисходящийот1204\"\n",
        "P2= \" ВСеверныйфилиалБанка\""
      ],
      "metadata": {
        "id": "4otFukxxrx-3"
      },
      "execution_count": null,
      "outputs": []
    },
    {
      "cell_type": "code",
      "source": [
        "key = gen_klyo(len(P1))\n",
        "print(key)\n",
        "hex_klyuch=hextext(key)\n",
        "print(\"Ключ в шестнадцатиричном виде: {}\".format(hex_klyuch))\n"
      ],
      "metadata": {
        "colab": {
          "base_uri": "https://localhost:8080/"
        },
        "id": "KKQVCh5msYCB",
        "outputId": "22dfe931-6ddc-4a49-8eec-8315bec5d83c"
      },
      "execution_count": null,
      "outputs": [
        {
          "output_type": "stream",
          "name": "stdout",
          "text": [
            "AHwgLQ4cVVXAyHW7Zua7F\n",
            "Ключ в шестнадцатиричном виде: 414877674c51346356565841794857375a75613746\n"
          ]
        }
      ]
    },
    {
      "cell_type": "code",
      "source": [
        "C1= encrypted(P1,key)\n",
        "C2= encrypted(P2,key)\n",
        "print(\"Шифрованный текст: {}\".format(C1))\n",
        "print(\"Шифрованный текст: {}\".format(C2))\n",
        "\n",
        "decrypt=encrypted(C1,C2)\n",
        "print(\"Расфрованный текст: {}\".format(encrypted(decrypt,P2)))\n",
        "print(\"Расфрованный текст: {}\".format(encrypted(decrypt,P1)))"
      ],
      "metadata": {
        "colab": {
          "base_uri": "https://localhost:8080/"
        },
        "id": "yMdnET3QtjLn",
        "outputId": "3d1524b6-b478-4f25-febd-405d49640ca1"
      },
      "execution_count": null,
      "outputs": [
        {
          "output_type": "stream",
          "name": "stdout",
          "text": [
            "Шифрованный текст: aѕчѵѼЙЌТГѨѬЎаѰѮЉИDS\u0007r\n",
            "Шифрованный текст: aњіђѾѤѴўНѯМѹтѰѧЌыхќЍѶ\n",
            "Расфрованный текст:  НаВашисходящийот1204\n",
            "Расфрованный текст:  ВСеверныйфилиалБанка\n"
          ]
        }
      ]
    }
  ]
}